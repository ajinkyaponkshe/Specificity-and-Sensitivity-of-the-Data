{
 "cells": [
  {
   "cell_type": "markdown",
   "metadata": {},
   "source": [
    "Calculate quality of the test i.e sensitivity and specificity\n",
    "\n",
    "input two arrays of binary input both of same length N representing actual and predicted result where 1 represent true result and 0 is false predicted result\n",
    "\n",
    "output returns either sensitivity of the result (when q is False) or Specificity of the resuly (when q is true)\n",
    "\n",
    "A=1,0,1,1,0,1\n",
    "B=0,1,1,0,0,1\n",
    "\n",
    "if A=1, B=1 then True positive\n",
    "if A=0, B=1 then False Positive\n",
    "if A=0, B=0 then True Negative\n",
    "if A=1, B=0 then False Negative\n",
    "\n",
    "Sensitivity:sensitivity is the ability of a test to correctly identify those with the disease (true positive rate)\n",
    "Sensitivity= TP/(TP+FN)\n",
    "\n",
    "Specificty: specificity is the ability of a test correcly identify those without disease (true Negative)\n",
    "Specificity= TN/(TN+FP)"
   ]
  },
  {
   "cell_type": "code",
   "execution_count": 12,
   "metadata": {},
   "outputs": [],
   "source": [
    "import numpy as np\n",
    "X=np.array([1,0,1,1,0,1])\n",
    "Y=np.array([0,1,1,0,0,1])\n",
    "q=1\n",
    "TP,FP,TN,FN=0,0,0,0\n",
    "for i in range (len(X),len(Y)):\n",
    "    \n",
    "    if X[i]==Y[i]==1:\n",
    "        TP=TP+1\n",
    "    if X[i]==0 and X[i]!=Y[i]:\n",
    "        FP=FP+1\n",
    "    if X[i]==Y[i]==0:\n",
    "        TN=TN+1\n",
    "    if X[i]==1 and X[i]!=Y[i]:\n",
    "        FN=FN+1\n",
    "\n",
    "    if q==1:\n",
    "        Sensitivity=TP/(TP+FN)\n",
    "        print('Sensitivity =',Sensitivity)\n",
    "    else:\n",
    "        Specificity= TN/(TN+FP)\n",
    "        print('Specificty =',Specificity)\n"
   ]
  },
  {
   "cell_type": "code",
   "execution_count": 29,
   "metadata": {},
   "outputs": [],
   "source": [
    "# Function\n",
    "\n",
    "def Solution(X,Y,q):\n",
    "    TP,FP,TN,FN=0,0,0,0\n",
    "    for i in range (len(X)):\n",
    "    \n",
    "        if X[i]==Y[i]==1:\n",
    "            TP=TP+1\n",
    "        if X[i]==0 and X[i]!=Y[i]:\n",
    "            FP=FP+1\n",
    "        if X[i]==Y[i]==0:\n",
    "            TN=TN+1\n",
    "        if X[i]==1 and X[i]!=Y[i]:\n",
    "            FN=FN+1\n",
    "\n",
    "        if q:\n",
    "            Sensitivity=TP/(TP+FN)\n",
    "            return Sensitivity\n",
    "        else:\n",
    "            Specificity= TN/(TN+FP)\n",
    "            return Specificity\n",
    "    "
   ]
  },
  {
   "cell_type": "code",
   "execution_count": 31,
   "metadata": {},
   "outputs": [
    {
     "data": {
      "text/plain": [
       "1.0"
      ]
     },
     "execution_count": 31,
     "metadata": {},
     "output_type": "execute_result"
    }
   ],
   "source": [
    "Solution([1,0],[1,0],1)"
   ]
  }
 ],
 "metadata": {
  "kernelspec": {
   "display_name": "Python 3",
   "language": "python",
   "name": "python3"
  },
  "language_info": {
   "codemirror_mode": {
    "name": "ipython",
    "version": 3
   },
   "file_extension": ".py",
   "mimetype": "text/x-python",
   "name": "python",
   "nbconvert_exporter": "python",
   "pygments_lexer": "ipython3",
   "version": "3.7.6"
  }
 },
 "nbformat": 4,
 "nbformat_minor": 2
}
